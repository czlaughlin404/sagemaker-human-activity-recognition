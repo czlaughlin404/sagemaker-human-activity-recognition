{
 "cells": [
  {
   "cell_type": "code",
   "execution_count": null,
   "id": "89e5b072",
   "metadata": {},
   "outputs": [],
   "source": [
    "%store -r\n",
    "print ('data_bucket_name=',data_bucket_name)"
   ]
  },
  {
   "cell_type": "code",
   "execution_count": null,
   "id": "96413797",
   "metadata": {},
   "outputs": [],
   "source": [
    "import time\n",
    "import sagemaker\n",
    "from sagemaker.tensorflow import TensorFlow\n",
    "sess = sagemaker.Session()\n",
    "role = sagemaker.get_execution_role()"
   ]
  },
  {
   "cell_type": "code",
   "execution_count": null,
   "id": "d4c017e7",
   "metadata": {},
   "outputs": [],
   "source": [
    "job_name='har-tf-'+time.strftime('%Y-%m-%d-%H-%M-%S')\n",
    "print(job_name)"
   ]
  },
  {
   "cell_type": "code",
   "execution_count": null,
   "id": "a1395a39",
   "metadata": {},
   "outputs": [],
   "source": [
    "hyperparameter_json={\n",
    "    'epochs': 5,\n",
    "    'batch_size': 64}"
   ]
  },
  {
   "cell_type": "code",
   "execution_count": null,
   "id": "45b5e428",
   "metadata": {},
   "outputs": [],
   "source": [
    "#https://sagemaker.readthedocs.io/en/stable/api/training/estimators.html\n",
    "tf_estimator = TensorFlow(use_spot_instances=False,\n",
    "                          enable_sagemaker_metrics=True,\n",
    "                          entry_point='train_tf.py', \n",
    "                          #model_uri='s3://bucket/folder/output/model.tar.gz',\n",
    "                          role=role,\n",
    "                          instance_count=1, \n",
    "                          instance_type='ml.m5.large',\n",
    "                          framework_version='1.12', \n",
    "                          volume_size=8,\n",
    "                          py_version='py3',\n",
    "                          script_mode=True,\n",
    "                          hyperparameters=hyperparameter_json\n",
    "                         )"
   ]
  },
  {
   "cell_type": "code",
   "execution_count": null,
   "id": "2ba0516f",
   "metadata": {
    "scrolled": false
   },
   "outputs": [],
   "source": [
    "#https://sagemaker.readthedocs.io/en/stable/api/training/estimators.html#sagemaker.estimator.EstimatorBase.fit\n",
    "\n",
    "tf_estimator.fit(\n",
    "    inputs={\n",
    "    'training': 's3://'+data_bucket_name+'/train',\n",
    "    'test': 's3://'+data_bucket_name+'/test'\n",
    "    },\n",
    "    wait=True,\n",
    "    job_name=job_name)"
   ]
  },
  {
   "cell_type": "code",
   "execution_count": null,
   "id": "cfb74ecc",
   "metadata": {},
   "outputs": [],
   "source": [
    "#https://docs.aws.amazon.com/sagemaker/latest/APIReference/API_DescribeTrainingJob.html\n",
    "\n",
    "import boto3\n",
    "import json\n",
    "import pprint\n",
    "client = boto3.client('sagemaker')\n",
    "\n",
    "response = client.describe_training_job(\n",
    "    TrainingJobName=job_name\n",
    ")\n",
    "\n",
    "while (response['TrainingJobStatus'] not in ('Failed','Completed','Stopped','Stopping','Interrupted','MaxRuntimeExceeded')):\n",
    "    print (response['TrainingJobStatus'])\n",
    "    time.sleep(15)\n",
    "    response = client.describe_training_job(TrainingJobName=job_name)\n",
    "    \n",
    "\n",
    "#pprint.pprint(response)\n",
    "print('job_name=',job_name)\n",
    "print('TrainingTimeInSeconds=',response['TrainingTimeInSeconds'])\n",
    "print('TrainingJobStatus=',response['TrainingJobStatus'])\n",
    "print('S3ModelArtifacts=',response['ModelArtifacts']['S3ModelArtifacts'])"
   ]
  },
  {
   "cell_type": "code",
   "execution_count": null,
   "id": "f4592da6",
   "metadata": {},
   "outputs": [],
   "source": [
    "#https://sagemaker.readthedocs.io/en/stable/frameworks/tensorflow/deploying_tensorflow_serving.html#deploying-directly-from-model-artifacts\n",
    "\n",
    "from sagemaker.tensorflow import TensorFlowModel\n",
    "tf_endpoint_name = 'ep-'+job_name\n",
    "\n",
    "model_artifact = response['ModelArtifacts']['S3ModelArtifacts']\n",
    "\n",
    "model = TensorFlowModel(model_data=model_artifact, role=role, framework_version='1.12')\n",
    "                                       \n",
    "predictor = model.deploy(initial_instance_count=1, \n",
    "                         instance_type='ml.t2.medium',\n",
    "                         endpoint_name=tf_endpoint_name,\n",
    "                         #accelerator_type='ml.eia1.medium'\n",
    "                         wait=True)"
   ]
  },
  {
   "cell_type": "code",
   "execution_count": null,
   "id": "e135815b",
   "metadata": {},
   "outputs": [],
   "source": [
    "#https://docs.aws.amazon.com/sagemaker/latest/APIReference/API_DescribeTrainingJob.html\n",
    "\n",
    "import boto3\n",
    "import json\n",
    "import pprint\n",
    "client = boto3.client('sagemaker')\n",
    "\n",
    "response = client.describe_endpoint(\n",
    "    EndpointName=tf_endpoint_name\n",
    ")\n",
    "\n",
    "while (response['EndpointStatus'] not in ('InService')):\n",
    "    time.sleep(15)\n",
    "    response = client.describe_endpoint(\n",
    "    EndpointName=tf_endpoint_name)\n",
    "    print(response['EndpointStatus'])\n",
    "    \n",
    "pprint.pprint(response)\n",
    "print('tf_endpoint_name=',tf_endpoint_name)"
   ]
  },
  {
   "cell_type": "code",
   "execution_count": null,
   "id": "eb2aa64b",
   "metadata": {},
   "outputs": [],
   "source": [
    "%store tf_endpoint_name\n",
    "%store data_bucket_name"
   ]
  }
 ],
 "metadata": {
  "kernelspec": {
   "display_name": "conda_tensorflow_p36",
   "language": "python",
   "name": "conda_tensorflow_p36"
  },
  "language_info": {
   "codemirror_mode": {
    "name": "ipython",
    "version": 3
   },
   "file_extension": ".py",
   "mimetype": "text/x-python",
   "name": "python",
   "nbconvert_exporter": "python",
   "pygments_lexer": "ipython3",
   "version": "3.6.13"
  }
 },
 "nbformat": 4,
 "nbformat_minor": 5
}
