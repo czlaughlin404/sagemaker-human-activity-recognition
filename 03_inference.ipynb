{
 "cells": [
  {
   "cell_type": "code",
   "execution_count": null,
   "id": "16560612",
   "metadata": {},
   "outputs": [],
   "source": [
    "import boto3\n",
    "import io\n",
    "import numpy as np\n",
    "import json\n",
    "import random\n",
    "random.seed()"
   ]
  },
  {
   "cell_type": "code",
   "execution_count": null,
   "id": "c2321377",
   "metadata": {},
   "outputs": [],
   "source": [
    "ACT_LABELS = [\"dws\",\"ups\", \"wlk\", \"jog\", \"std\", \"sit\"]"
   ]
  },
  {
   "cell_type": "code",
   "execution_count": null,
   "id": "a07c46dc",
   "metadata": {},
   "outputs": [],
   "source": [
    "def load_data(bucket_name,key):\n",
    "    s3_client = boto3.client('s3')\n",
    "    obj = s3_client.get_object(Bucket=bucket_name, Key=key)\n",
    "    \n",
    "    with io.BytesIO(obj[\"Body\"].read()) as f:        \n",
    "        f.seek(0)\n",
    "        data = np.load(f)\n",
    "    return data"
   ]
  },
  {
   "cell_type": "code",
   "execution_count": null,
   "id": "d6950037",
   "metadata": {},
   "outputs": [],
   "source": [
    "bucket_name = 'har-data-105064114710' # name of the bucket\n",
    "\n",
    "testX = load_data(bucket_name,'test/test_data.npy')\n",
    "testy = load_data(bucket_name,'test/test_labels.npy')"
   ]
  },
  {
   "cell_type": "code",
   "execution_count": null,
   "id": "1c0ca676",
   "metadata": {},
   "outputs": [],
   "source": [
    "print (testX.shape,testy.shape)\n",
    "\n",
    "n_timesteps, n_features, n_outputs = testX.shape[2], testX.shape[1], testy.shape[1]\n",
    "print(n_timesteps, n_features, n_outputs)\n",
    "n_steps, n_length = 4, 32\n",
    "#n_steps, n_length = 1, 128\n",
    "input_data = testX.reshape((testX.shape[0], n_steps, n_length, n_features))\n",
    " \n",
    "print('reshape=',input_data.shape)"
   ]
  },
  {
   "cell_type": "code",
   "execution_count": null,
   "id": "70ec2133",
   "metadata": {},
   "outputs": [],
   "source": [
    "r = random.randint(0,input_data.shape[0])\n",
    "print(r)\n",
    "print(input_data[r].shape)\n",
    "\n",
    "inference_input=input_data[r:r+1]\n",
    "print('inference_input=',inference_input.shape)\n",
    "\n",
    "ep_name = 'ep-har-tf-2021-05-24-02-37-04'\n",
    "\n",
    "client = boto3.client('sagemaker-runtime')\n",
    "\n",
    "payload=inference_input.tolist()\n",
    "\n",
    "response = client.invoke_endpoint(EndpointName=ep_name,\n",
    "                                   ContentType='application/json',\n",
    "                                   Body=json.dumps(payload)\n",
    "                                 )\n",
    "\n",
    "result = json.loads(response['Body'].read().decode())\n",
    "\n",
    "predictions=result['predictions'][0]\n",
    "\n",
    "print('r=',r)\n",
    "for i in range(0,len(predictions)):\n",
    "\n",
    "    print('class=',ACT_LABELS[i], 'proba=',round(float(predictions[i]),4), 'truth=',testy[r][i])\n"
   ]
  },
  {
   "cell_type": "code",
   "execution_count": null,
   "id": "e9cb79d8",
   "metadata": {},
   "outputs": [],
   "source": [
    "import numpy as np\n",
    "import pandas as pd\n",
    "import matplotlib.pyplot as plt\n",
    "\n",
    "x = testX[r]\n",
    "\n",
    "df = pd.DataFrame(x[0])\n",
    "\n",
    "for i in range(1,12):\n",
    "    df.insert(i, i, x[i], True)\n",
    "    \n",
    "df.columns=(['attitude.roll','attitude.pitch','attitude.yaw','gravity.x','gravity.y','gravity.z','rotationRate.x','rotationRate.y','rotationRate.z','userAcceleration.x','userAcceleration.y','userAcceleration.z'])\n",
    "\n",
    "df"
   ]
  },
  {
   "cell_type": "code",
   "execution_count": null,
   "id": "d20cdbfb",
   "metadata": {},
   "outputs": [],
   "source": [
    "df.plot(subplots=True,figsize = (20,30))\n",
    "#plt.tight_layout()\n",
    "plt.show()"
   ]
  }
 ],
 "metadata": {
  "kernelspec": {
   "display_name": "conda_tensorflow_p36",
   "language": "python",
   "name": "conda_tensorflow_p36"
  },
  "language_info": {
   "codemirror_mode": {
    "name": "ipython",
    "version": 3
   },
   "file_extension": ".py",
   "mimetype": "text/x-python",
   "name": "python",
   "nbconvert_exporter": "python",
   "pygments_lexer": "ipython3",
   "version": "3.6.13"
  }
 },
 "nbformat": 4,
 "nbformat_minor": 5
}
