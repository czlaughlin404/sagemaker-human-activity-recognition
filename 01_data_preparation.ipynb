{
 "cells": [
  {
   "cell_type": "code",
   "execution_count": null,
   "id": "1c56e306",
   "metadata": {},
   "outputs": [],
   "source": [
    "import numpy as np\n",
    "import pandas as pd\n",
    "from numpy import save\n",
    "import boto3 \n",
    "import os"
   ]
  },
  {
   "cell_type": "code",
   "execution_count": null,
   "id": "9f66e679",
   "metadata": {},
   "outputs": [],
   "source": [
    "data_bucket_name='SET_YOUR_BUCKET_NAME'"
   ]
  },
  {
   "cell_type": "code",
   "execution_count": null,
   "id": "be06459a",
   "metadata": {},
   "outputs": [],
   "source": [
    "train_ts = pd.read_csv('data/train_ts.csv')\n",
    "test_ts = pd.read_csv('data/test_ts.csv')\n",
    "\n",
    "train_ts = train_ts.drop(['Unnamed: 0'], axis=1)\n",
    "test_ts = test_ts.drop(['Unnamed: 0'], axis=1)"
   ]
  },
  {
   "cell_type": "code",
   "execution_count": null,
   "id": "9a10c958",
   "metadata": {},
   "outputs": [],
   "source": [
    "def ts_to_secs(dataset, w, s):\n",
    "    \n",
    "    data = dataset[dataset.columns[:-3]].values    \n",
    "    act_labels = dataset[\"act\"].values\n",
    "    id_labels = dataset[\"id\"].values\n",
    "    trial_labels = dataset[\"trial\"].values\n",
    "\n",
    "    ## We want the Rows of matrices show each Feature and the Columns show time points.\n",
    "    data = data.T\n",
    "\n",
    "    m = data.shape[0]   # Data Dimension \n",
    "    ttp = data.shape[1] # Total Time Points\n",
    "    number_of_secs = int(round(((ttp - w)/s)))\n",
    "\n",
    "    ##  Create a 3D matrix for Storing Sections  \n",
    "    secs_data = np.zeros((number_of_secs , m , w ))\n",
    "    act_secs_labels = np.zeros(number_of_secs)\n",
    "    id_secs_labels = np.zeros(number_of_secs)\n",
    "\n",
    "    k=0\n",
    "    for i in range(0 , ttp-w, s):\n",
    "        j = i // s\n",
    "        if j >= number_of_secs:\n",
    "            break\n",
    "        if id_labels[i] != id_labels[i+w-1]: \n",
    "            continue\n",
    "        if act_labels[i] != act_labels[i+w-1]: \n",
    "            continue\n",
    "        if trial_labels[i] != trial_labels[i+w-1]:\n",
    "            continue\n",
    "            \n",
    "        secs_data[k] = data[:, i:i+w]\n",
    "        act_secs_labels[k] = act_labels[i].astype(int)\n",
    "        id_secs_labels[k] = id_labels[i].astype(int)\n",
    "        k = k+1\n",
    "        \n",
    "    secs_data = secs_data[0:k]\n",
    "    act_secs_labels = act_secs_labels[0:k]\n",
    "    id_secs_labels = id_secs_labels[0:k]\n",
    "    return secs_data, act_secs_labels"
   ]
  },
  {
   "cell_type": "code",
   "execution_count": null,
   "id": "05f69331",
   "metadata": {},
   "outputs": [],
   "source": [
    "## This Variable Defines the Size of Sliding Window\n",
    "## ( e.g. 100 means in each snapshot we just consider 100 consecutive observations of each sensor) \n",
    "w = 128 # 50 Equals to 1 second for MotionSense Dataset (it is on 50Hz samplig rate)\n",
    "## Here We Choose Step Size for Building Diffrent Snapshots from Time-Series Data\n",
    "## ( smaller step size will increase the amount of the instances and higher computational cost may be incurred )\n",
    "s = 32\n",
    "train_data, act_train = ts_to_secs(train_ts.copy(), w, s)\n",
    "\n",
    "s = 32\n",
    "test_data, act_test = ts_to_secs(test_ts.copy(), w, s)"
   ]
  },
  {
   "cell_type": "code",
   "execution_count": null,
   "id": "028f76d4",
   "metadata": {},
   "outputs": [],
   "source": [
    "from keras.utils import to_categorical\n",
    "\n",
    "act_train_labels = to_categorical(act_train)\n",
    "act_test_labels = to_categorical(act_test)\n",
    "    \n",
    "## 3 dimensions for Convolution2D\n",
    "train_data = np.expand_dims(train_data,axis=3)\n",
    "test_data = np.expand_dims(test_data,axis=3)"
   ]
  },
  {
   "cell_type": "code",
   "execution_count": null,
   "id": "def81d59",
   "metadata": {},
   "outputs": [],
   "source": [
    "from sklearn.utils import shuffle\n",
    "train_data, act_train_labels = shuffle(train_data, act_train_labels, random_state=0)"
   ]
  },
  {
   "cell_type": "code",
   "execution_count": null,
   "id": "7bd40513",
   "metadata": {},
   "outputs": [],
   "source": [
    "# save to npy file\n",
    "!mkdir npydata\n",
    "save('npydata/train_data.npy', train_data)\n",
    "save('npydata/train_labels.npy', act_train_labels)\n",
    "save('npydata/test_data.npy', test_data)\n",
    "save('npydata/test_labels.npy', act_test_labels)"
   ]
  },
  {
   "cell_type": "code",
   "execution_count": null,
   "id": "473d82f5",
   "metadata": {},
   "outputs": [],
   "source": [
    "# name of the bucket\n",
    "\n",
    "s3_client = boto3.client('s3')\n",
    "response = s3_client.upload_file('npydata/train_data.npy', data_bucket_name, 'train/train_data.npy')\n",
    "response = s3_client.upload_file('npydata/train_labels.npy', data_bucket_name, 'train/train_labels.npy')\n",
    "response = s3_client.upload_file('npydata/test_data.npy', data_bucket_name, 'test/test_data.npy')\n",
    "response = s3_client.upload_file('npydata/test_labels.npy', data_bucket_name, 'test/test_labels.npy')"
   ]
  },
  {
   "cell_type": "code",
   "execution_count": null,
   "id": "9e6adbc5",
   "metadata": {},
   "outputs": [],
   "source": [
    "%store data_bucket_name"
   ]
  }
 ],
 "metadata": {
  "kernelspec": {
   "display_name": "conda_tensorflow2_p36",
   "language": "python",
   "name": "conda_tensorflow2_p36"
  },
  "language_info": {
   "codemirror_mode": {
    "name": "ipython",
    "version": 3
   },
   "file_extension": ".py",
   "mimetype": "text/x-python",
   "name": "python",
   "nbconvert_exporter": "python",
   "pygments_lexer": "ipython3",
   "version": "3.6.13"
  }
 },
 "nbformat": 4,
 "nbformat_minor": 5
}
